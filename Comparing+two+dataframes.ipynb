{
 "cells": [
  {
   "cell_type": "markdown",
   "metadata": {},
   "source": [
    "### This is taking two versions of Webservices' lists in .csv format and yielding their difference\n",
    "\n",
    "<u><b>Assumption:</b></u>\n",
    "\n",
    "The code assumes that the services' list will be in the following format->\n",
    "<table border = 1>\n",
    "    <th>Parent Service</th>\n",
    "    <th>API Name</th>\n",
    "    <tr>\n",
    "        <td>Root Service Category 1</td>\n",
    "        <td>Service 1</td>\n",
    "    </tr>\n",
    "</table>"
   ]
  },
  {
   "cell_type": "code",
   "execution_count": 29,
   "metadata": {
    "collapsed": true
   },
   "outputs": [],
   "source": [
    "import pandas as pd"
   ]
  },
  {
   "cell_type": "code",
   "execution_count": 37,
   "metadata": {
    "collapsed": false
   },
   "outputs": [],
   "source": [
    "# Assign the two Services' lists to two dataframes\n",
    "df2 = pd.read_csv(\"Version2.csv\")\n",
    "df1 = pd.read_csv(\"Version1.csv\")\n"
   ]
  },
  {
   "cell_type": "code",
   "execution_count": 38,
   "metadata": {
    "collapsed": false
   },
   "outputs": [
    {
     "data": {
      "text/html": [
       "<div>\n",
       "<table border=\"1\" class=\"dataframe\">\n",
       "  <thead>\n",
       "    <tr style=\"text-align: right;\">\n",
       "      <th></th>\n",
       "      <th>Parent Service</th>\n",
       "      <th>API Name</th>\n",
       "    </tr>\n",
       "  </thead>\n",
       "  <tbody>\n",
       "    <tr>\n",
       "      <th>0</th>\n",
       "      <td>Audit Trail Services</td>\n",
       "      <td>storePrivacyEnforcementTrail</td>\n",
       "    </tr>\n",
       "    <tr>\n",
       "      <th>1</th>\n",
       "      <td>Audit Trail Services</td>\n",
       "      <td>storeAdminActionTrail</td>\n",
       "    </tr>\n",
       "    <tr>\n",
       "      <th>2</th>\n",
       "      <td>Audit Trail Services</td>\n",
       "      <td>storeDataSubjectActionTrail</td>\n",
       "    </tr>\n",
       "    <tr>\n",
       "      <th>3</th>\n",
       "      <td>Audit Trail Services</td>\n",
       "      <td>storePolicyUpdateTrail</td>\n",
       "    </tr>\n",
       "    <tr>\n",
       "      <th>4</th>\n",
       "      <td>Audit Trail Services</td>\n",
       "      <td>fetchAnalyticsTrail</td>\n",
       "    </tr>\n",
       "  </tbody>\n",
       "</table>\n",
       "</div>"
      ],
      "text/plain": [
       "         Parent Service                      API Name\n",
       "0  Audit Trail Services  storePrivacyEnforcementTrail\n",
       "1  Audit Trail Services         storeAdminActionTrail\n",
       "2  Audit Trail Services   storeDataSubjectActionTrail\n",
       "3  Audit Trail Services        storePolicyUpdateTrail\n",
       "4  Audit Trail Services           fetchAnalyticsTrail"
      ]
     },
     "execution_count": 38,
     "metadata": {},
     "output_type": "execute_result"
    }
   ],
   "source": [
    "df2.head()"
   ]
  },
  {
   "cell_type": "code",
   "execution_count": 39,
   "metadata": {
    "collapsed": false
   },
   "outputs": [
    {
     "data": {
      "text/html": [
       "<div>\n",
       "<table border=\"1\" class=\"dataframe\">\n",
       "  <thead>\n",
       "    <tr style=\"text-align: right;\">\n",
       "      <th></th>\n",
       "      <th>Parent Service</th>\n",
       "      <th>API Name</th>\n",
       "    </tr>\n",
       "  </thead>\n",
       "  <tbody>\n",
       "    <tr>\n",
       "      <th>0</th>\n",
       "      <td>Authentication Services</td>\n",
       "      <td>authenticate</td>\n",
       "    </tr>\n",
       "    <tr>\n",
       "      <th>1</th>\n",
       "      <td>Notification Services</td>\n",
       "      <td>generateNotification</td>\n",
       "    </tr>\n",
       "    <tr>\n",
       "      <th>2</th>\n",
       "      <td>Notification Services</td>\n",
       "      <td>fetchNotificationForDisplayId</td>\n",
       "    </tr>\n",
       "    <tr>\n",
       "      <th>3</th>\n",
       "      <td>Notification Services</td>\n",
       "      <td>fetchNotificationForId</td>\n",
       "    </tr>\n",
       "    <tr>\n",
       "      <th>4</th>\n",
       "      <td>Notification Services</td>\n",
       "      <td>fetchDisplayIDsForUserPendingTasks</td>\n",
       "    </tr>\n",
       "  </tbody>\n",
       "</table>\n",
       "</div>"
      ],
      "text/plain": [
       "            Parent Service                            API Name\n",
       "0  Authentication Services                        authenticate\n",
       "1    Notification Services                generateNotification\n",
       "2    Notification Services       fetchNotificationForDisplayId\n",
       "3    Notification Services              fetchNotificationForId\n",
       "4    Notification Services  fetchDisplayIDsForUserPendingTasks"
      ]
     },
     "execution_count": 39,
     "metadata": {},
     "output_type": "execute_result"
    }
   ],
   "source": [
    "df1.head()"
   ]
  },
  {
   "cell_type": "code",
   "execution_count": 56,
   "metadata": {
    "collapsed": false
   },
   "outputs": [],
   "source": [
    "d1 = df1.drop(['Parent Service'], axis = 1)\n",
    "d2 = df2.drop(['Parent Service'], axis = 1)"
   ]
  },
  {
   "cell_type": "code",
   "execution_count": 60,
   "metadata": {
    "collapsed": false
   },
   "outputs": [
    {
     "data": {
      "text/html": [
       "<div>\n",
       "<table border=\"1\" class=\"dataframe\">\n",
       "  <thead>\n",
       "    <tr style=\"text-align: right;\">\n",
       "      <th></th>\n",
       "      <th>API Name</th>\n",
       "    </tr>\n",
       "  </thead>\n",
       "  <tbody>\n",
       "    <tr>\n",
       "      <th>228</th>\n",
       "      <td>addTenant</td>\n",
       "    </tr>\n",
       "    <tr>\n",
       "      <th>170</th>\n",
       "      <td>readZipOfPDFiles</td>\n",
       "    </tr>\n",
       "    <tr>\n",
       "      <th>167</th>\n",
       "      <td>downloadGDPRReport</td>\n",
       "    </tr>\n",
       "    <tr>\n",
       "      <th>114</th>\n",
       "      <td>fetchDataSubjectDataRestrictRequestHistory</td>\n",
       "    </tr>\n",
       "    <tr>\n",
       "      <th>212</th>\n",
       "      <td>addSensitiveFields (ver 1.0)</td>\n",
       "    </tr>\n",
       "  </tbody>\n",
       "</table>\n",
       "</div>"
      ],
      "text/plain": [
       "                                       API Name\n",
       "228                                   addTenant\n",
       "170                            readZipOfPDFiles\n",
       "167                          downloadGDPRReport\n",
       "114  fetchDataSubjectDataRestrictRequestHistory\n",
       "212                addSensitiveFields (ver 1.0)"
      ]
     },
     "execution_count": 60,
     "metadata": {},
     "output_type": "execute_result"
    }
   ],
   "source": [
    "# Compare the two dataframes by the following method:\n",
    "# Concat the two dataframes\n",
    "# Reset the indices of the rows accordingly\n",
    "# Group the same rows\n",
    "# Get the indices of unique records\n",
    "# Filter them\n",
    "\n",
    "df = pd.concat([d1, d2])\n",
    "df = df.reset_index(drop=True)\n",
    "df_gpby = df.groupby(list(df.columns))\n",
    "idx = [x[0] for x in df_gpby.groups.values() if len(x) == 1]\n",
    "df_new = df.reindex(idx)\n",
    "df_new.head()"
   ]
  },
  {
   "cell_type": "code",
   "execution_count": 62,
   "metadata": {
    "collapsed": false
   },
   "outputs": [],
   "source": [
    "# Save the dataframe to an Excel sheet\n",
    "writer = pd.ExcelWriter('C:\\\\Users\\\\Sayak\\\\Desktop\\\\output.xlsx')\n",
    "df_new.to_excel(writer,'Sheet1')\n",
    "writer.save()"
   ]
  }
 ],
 "metadata": {
  "anaconda-cloud": {},
  "kernelspec": {
   "display_name": "Python [conda root]",
   "language": "python",
   "name": "conda-root-py"
  },
  "language_info": {
   "codemirror_mode": {
    "name": "ipython",
    "version": 3
   },
   "file_extension": ".py",
   "mimetype": "text/x-python",
   "name": "python",
   "nbconvert_exporter": "python",
   "pygments_lexer": "ipython3",
   "version": "3.5.2"
  }
 },
 "nbformat": 4,
 "nbformat_minor": 1
}
